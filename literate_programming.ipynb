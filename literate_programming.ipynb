{
 "cells": [
  {
   "cell_type": "markdown",
   "metadata": {},
   "source": [
    "**CYK.PY**"
   ]
  },
  {
   "cell_type": "markdown",
   "metadata": {},
   "source": [
    "Funktionalitäten werden aus `eingabe.py` importiert, dazu eine neue Grammatik eingelesen und in der Variable `grammar` gespeichert"
   ]
  },
  {
   "cell_type": "code",
   "execution_count": null,
   "metadata": {},
   "outputs": [],
   "source": [
    "import eingabe\n",
    "\n",
    "grammar = eingabe.cfg\n",
    "eingabe.cfg.new_grammar(grammar)"
   ]
  },
  {
   "cell_type": "markdown",
   "metadata": {},
   "source": [
    "`check_rule` sucht für einen gegebenen String `rhs` (right-hand-side) alle passenden Symbole `lhs` raus und gibt deren Position in `grammar.rules` mittels `indices` zurück."
   ]
  },
  {
   "cell_type": "code",
   "execution_count": null,
   "metadata": {},
   "outputs": [],
   "source": [
    "def check_rule(rhs):\n",
    "    indices = []\n",
    "    for lhs in grammar.rules:\n",
    "        if lhs.find(rhs) != -1:\n",
    "            indices.append(grammar.rules.index(lhs))\n",
    "        elif lhs.find(rhs[::1]) != -1 and len(rhs) > 1:\n",
    "            indices.append(grammar.rules.index(lhs))\n",
    "    return indices"
   ]
  },
  {
   "cell_type": "markdown",
   "metadata": {},
   "source": [
    "`matrix_mult` bildet alle Kombinationen von zwei gegebenen Feldern `left`, `lower` in der Tabelle, fügt die passenden Symbole `symbols` hinzu und gibt diese zurück."
   ]
  },
  {
   "cell_type": "code",
   "execution_count": null,
   "metadata": {},
   "outputs": [],
   "source": [
    "def matrix_mult(left, lower):\n",
    "    symbols = []\n",
    "    for symbol_left in left:\n",
    "        for symbol_lower in lower:\n",
    "            symbols.append(grammar.rules[x][0] for x in check_rule(symbol_left + symbol_lower))\n",
    "    flat = [x for inner in symbols for x in inner]\n",
    "    return flat"
   ]
  },
  {
   "cell_type": "markdown",
   "metadata": {},
   "source": [
    "`tableau` wird initialisiert. In `cyk` wird zunächst alle diagonalen Felder `tableau[i][i]` mit dem passenden Symbol gefüllt.\n",
    "$\\\\$ \n",
    "Anschließend wird die obere Dreiecksmatrix durch Aufrufe von `matrix_mult` befüllt, mit `horizontal` und `vertical` sind dabei die Einträge aus `tableau` links und unter dem aktuell zu Befüllenden gemeint."
   ]
  },
  {
   "cell_type": "code",
   "execution_count": 1,
   "metadata": {},
   "outputs": [],
   "source": [
    "\n",
    "tableau = []\n",
    "\n",
    "\n",
    "def cyk(word):\n",
    "\n",
    "    n = len(word)\n",
    "    for i in range(0, n):\n",
    "        tableau.append([\"\"] * n)\n",
    "        tableau[i][i] = [grammar.variables[x] for x in check_rule(word[i])]\n",
    "\n",
    "    for s in range(1, n):\n",
    "        for i in range(1, n - s + 1):\n",
    "            result = []\n",
    "            for k in range(i, i + s):\n",
    "                horizontal = tableau[i - 1][k - 1]\n",
    "                vertical = tableau[k][i + s - 1]\n",
    "                result += (matrix_mult(horizontal, vertical))\n",
    "            tableau[i - 1][i + s - 1] = list(dict.fromkeys(result))\n",
    "    return tableau\n"
   ]
  },
  {
   "cell_type": "code",
   "execution_count": null,
   "metadata": {},
   "outputs": [],
   "source": [
    "**EINGABE.PY**"
   ]
  },
  {
   "cell_type": "markdown",
   "metadata": {},
   "source": [
    "Das Package `re` zur Benutzung von Regulären Ausdrücken wird importiert, sowie eine Hilfsliste zum teilen von Strings initialisiert. $\\\\$\n",
    "`new_word` nimmt einen string als Nutzereingabe und gibt diesen als Charakterliste `chars` zurück."
   ]
  },
  {
   "cell_type": "code",
   "execution_count": null,
   "metadata": {},
   "outputs": [],
   "source": [
    "import re\n",
    "\n",
    "splitter = ['.', ';', '  ', ',']\n",
    "\n",
    "def new_word():\n",
    "        word = input(\"what is the word?\\n\")\n",
    "        chars = []\n",
    "        for c in word:\n",
    "            chars.append(c)\n",
    "        return chars\n"
   ]
  },
  {
   "cell_type": "markdown",
   "metadata": {},
   "source": [
    "Die Klasse der Kontextfreien Grammatik `cfg` mitsamt Konstruktor und Setter-Methoden."
   ]
  },
  {
   "cell_type": "code",
   "execution_count": null,
   "metadata": {},
   "outputs": [],
   "source": [
    "class cfg:\n",
    "    \n",
    "    def __init__(self):\n",
    "        self.variables = []\n",
    "        self.alphabet = []\n",
    "        self.rules = []\n",
    "        self.start = None\n",
    "\n",
    "    def set_variables(self, variables):\n",
    "        self.variables = variables\n",
    "\n",
    "    def set_alphabet(self, alphabet):\n",
    "        self.alphabet = alphabet\n",
    "\n",
    "    def set_rules(self, rules):\n",
    "        self.rules = rules\n",
    "\n",
    "    def set_start(self, start):\n",
    "        self.start = start"
   ]
  },
  {
   "cell_type": "markdown",
   "metadata": {},
   "source": [
    "In der Methode `new_grammar` werden Symbole, Alphabet, Regeln und das Startsymbol eingelesen. Außerdem werden kleine Syntaktische Korrekturen mithilfe der `.split`-Methode vorgenommen, genauso wird durch die Methode `check_syntax` der Fall abgefangen, dass die eingegebene Grammatik nicht dem vorgegebenen Syntax entspricht."
   ]
  },
  {
   "cell_type": "code",
   "execution_count": null,
   "metadata": {},
   "outputs": [],
   "source": [
    "def new_grammar(self):\n",
    "\n",
    "        # Variabeln input\n",
    "        var = input(\"Bitte geben sie alle Variablen ein.\\n\")\n",
    "        for i in range(0, len(splitter)):\n",
    "            var = var.replace(splitter[i], ' ')\n",
    "        cfg.set_variables(cfg, var.split())\n",
    "\n",
    "        # Aplhabet input\n",
    "        var = input(\"Bitte geben sie das Alphabet an.\\n\")\n",
    "        for i in range(0, len(splitter)):\n",
    "            var = var.replace(splitter[i], ' ')\n",
    "        cfg.set_alphabet(self, var.split())\n",
    "\n",
    "        # Regeln input\n",
    "        var = input(\"Bitte geben sie die Regeln der Grammatik an.\\n\")\n",
    "        var = var.replace(' ', '')\n",
    "\n",
    "        # cfg.set_rules(self, re.split(';|,|.', var))\n",
    "        cfg.set_rules(self, re.split(';|,', var))\n",
    "\n",
    "        # Start input\n",
    "        cfg.set_start(self, input(\"Bitte geben sie die start Variable an.\\n\"))\n",
    "        if cfg.check_syntax(self, self.variables, self.alphabet, self.rules, self.start) != 1:\n",
    "            print(\n",
    "                \"Es gibt syntaktische Fehler in der Grammatik, bitte beheben sie diese und Probieren sie es noch einmal.\\n\")\n",
    "            raise SystemExit"
   ]
  },
  {
   "cell_type": "markdown",
   "metadata": {},
   "source": [
    "-- methode zum Syntax überprüfen-- $\\\\$\n",
    " @Simon you're up i dont know what you did here tbh :D"
   ]
  },
  {
   "cell_type": "code",
   "execution_count": null,
   "metadata": {},
   "outputs": [],
   "source": []
  },
  {
   "cell_type": "markdown",
   "metadata": {},
   "source": [
    "**TABULAR.PY**"
   ]
  },
  {
   "cell_type": "markdown",
   "metadata": {},
   "source": [
    "Funktionalitäten zur Stringmanipulation und Erstellung des `LaTeX`-Tableaus werden importiert."
   ]
  },
  {
   "cell_type": "code",
   "execution_count": null,
   "metadata": {},
   "outputs": [],
   "source": [
    "from string import Template\n",
    "import cyk\n",
    "import tabulate"
   ]
  },
  {
   "cell_type": "markdown",
   "metadata": {},
   "source": [
    "Nachdem der CYK-Algorithmus durchgelaufen ist, wird `table` an `to_latex` übergeben, durch das Package `tabulate` zu einem String in LaTeX Format transformiert und per `Template` in einen vorgefertigten String eingefügt. \n",
    "Zuletzt wird geprüft, ob $w \\in L$ und dementsprechend unter der tabelle vermerkt."
   ]
  },
  {
   "cell_type": "code",
   "execution_count": null,
   "metadata": {},
   "outputs": [],
   "source": [
    "def to_latex(table,length_word):\n",
    "    v_indices = (str(x + 1) for x in range(length_word))\n",
    "    h_indices = (str(x + 1) for x in range(length_word))\n",
    "\n",
    "    latex_string = str(tabulate.tabulate(table, tablefmt=\"latex\", showindex=iter(v_indices), headers=iter(h_indices)))\n",
    "    latex_string = latex_string.replace(\"  1 & \", r\"\\hline \\n  1 & \", 1)\n",
    "    latex_string = latex_string.replace(\"[]\", r\"$\\emptyset$\")\n",
    "    latex_string = Template(r'\\documentclass[12pt]{article}\\n \\usepackage{threeparttable}\\n \\begin{document} \\n $table\\n \\begin{tablenotes}\\item[1] $wL$\\end{tablenotes}\\end{document}%').safe_substitute(table=latex_string)\n",
    "    latex_string = latex_string.replace(r'\\begin{tabular}{r\"+\"l\"*n',r'\\begin{tabular}{|r\"+\"|l\"*n+\"|')\n",
    "    latex_string = latex_string.replace(\"['\", r\"\\{\")\n",
    "    latex_string = latex_string.replace(\"']\", r\"\\}\")\n",
    "    latex_string = latex_string.replace(\"', '\", \", \")\n",
    "    \n",
    "    if table[0][-1] == []:\n",
    "        latex_string = latex_string.replace(r\"$wL$\", r\"$w \\notin L$\")\n",
    "        return latex_string\n",
    "    \n",
    "    elif table[0][-1][0].find(cyk.grammar.rules[0][0]) != -1:\n",
    "        latex_string = latex_string.replace(\"$wL$\", r\"$w \\in L$\")\n",
    "        return latex_string\n",
    "    \n",
    "    else:\n",
    "        latex_string = latex_string.replace(r\"$wL$\", r\"$w \\notin L$\")\n",
    "        return latex_string"
   ]
  },
  {
   "cell_type": "code",
   "execution_count": null,
   "metadata": {},
   "outputs": [],
   "source": [
    "def check_syntax(self, variables, alphabet, rules, start):\n",
    "        lower = []\n",
    "        upper = []\n",
    "        wrong = 0\n",
    "        for i in range(0, len(rules)):\n",
    "             if rules[i].find(start, 0, 1) == -1:\n",
    "                wrong += 1\n",
    "            var = rules[i]\n",
    "            for j in range(0, len(var)):\n",
    "                if var[j].islower():\n",
    "                    lower.append(var[j])\n",
    "                if var[j].isupper():\n",
    "                    upper.append(var[j])\n",
    "        if wrong == len(rules):\n",
    "            print(1)\n",
    "            return -1\n",
    "        # Checkt ob alle benutzen Buchstaben in den Regeln auch im Alphabet gegeben sind\n",
    "        for i in range(0, len(lower)):\n",
    "            wrong = 0\n",
    "            for j in range(0, len(alphabet)):\n",
    "                if lower[i] != alphabet[j]:\n",
    "                    wrong += 1\n",
    "            if wrong == len(alphabet):\n",
    "                print(2)\n",
    "                return -1\n",
    "        # Checkt ob alle benutzen Variablen in den Regeln auch gegeben sind\n",
    "        for i in range(0, len(upper)):\n",
    "            wrong = 0\n",
    "            for j in range(0, len(variables)):\n",
    "                if upper[i] != variables[j]:\n",
    "                    wrong += 1\n",
    "            if wrong == len(variables):\n",
    "                print(3)\n",
    "                return -1\n",
    "        return 1"
   ]
  }
 ],
 "metadata": {
  "language_info": {
   "codemirror_mode": {
    "name": "ipython",
    "version": 3
   },
   "file_extension": ".py",
   "mimetype": "text/x-python",
   "name": "python",
   "nbconvert_exporter": "python",
   "pygments_lexer": "ipython3",
   "version": "3.7.7-final"
  },
  "orig_nbformat": 2,
  "kernelspec": {
   "name": "python37764bitvenvvirtualenv57ba971c6cde421d9af37ca9db0c70fd",
   "display_name": "Python 3.7.7 64-bit ('venv': virtualenv)"
  }
 },
 "nbformat": 4,
 "nbformat_minor": 2
}